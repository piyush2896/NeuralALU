{
 "cells": [
  {
   "cell_type": "code",
   "execution_count": 1,
   "metadata": {},
   "outputs": [],
   "source": [
    "import numpy as np\n",
    "import tensorflow as tf\n",
    "\n",
    "from utils import x_generator\n",
    "from utils.arithmetic import *\n",
    "from utils.pipelines import input_fn"
   ]
  },
  {
   "cell_type": "code",
   "execution_count": 2,
   "metadata": {},
   "outputs": [],
   "source": [
    "X, y, set_range = add_ab()\n",
    "X_extrapolated = x_generator(range_l=-20, range_u=20)\n",
    "\n",
    "m, n, p, q = set_range\n",
    "a = np.sum(X_extrapolated[:, m:n], axis=1)\n",
    "b = np.sum(X_extrapolated[:, p:q], axis=1)\n",
    "\n",
    "y_extrapolated = a + b"
   ]
  },
  {
   "cell_type": "code",
   "execution_count": 3,
   "metadata": {},
   "outputs": [
    {
     "data": {
      "text/plain": [
       "((10000, 100), (10000,), (10000, 100), (10000,))"
      ]
     },
     "execution_count": 3,
     "metadata": {},
     "output_type": "execute_result"
    }
   ],
   "source": [
    "X.shape, y.shape, X_extrapolated.shape, y_extrapolated.shape"
   ]
  },
  {
   "cell_type": "code",
   "execution_count": 4,
   "metadata": {},
   "outputs": [],
   "source": [
    "y = np.expand_dims(y, 1)\n",
    "y_extrapolated = np.expand_dims(y_extrapolated, 1)"
   ]
  },
  {
   "cell_type": "code",
   "execution_count": 5,
   "metadata": {},
   "outputs": [],
   "source": [
    "def train_test_split(X, y, val_split=0.2):\n",
    "    indices = np.random.permutation(X.shape[0])\n",
    "    split = int(0.2 * X.shape[0])\n",
    "    test_indices = indices[:split]\n",
    "    train_indices = indices[split:]\n",
    "    return X[train_indices], y[train_indices], X[test_indices], y[test_indices]"
   ]
  },
  {
   "cell_type": "code",
   "execution_count": 6,
   "metadata": {},
   "outputs": [
    {
     "data": {
      "text/plain": [
       "((8000, 100), (2000, 100), (8000, 1), (2000, 1))"
      ]
     },
     "execution_count": 6,
     "metadata": {},
     "output_type": "execute_result"
    }
   ],
   "source": [
    "X_train, y_train, X_test, y_test = train_test_split(X, y)\n",
    "\n",
    "X_train.shape, X_test.shape, y_train.shape, y_test.shape"
   ]
  },
  {
   "cell_type": "code",
   "execution_count": 7,
   "metadata": {},
   "outputs": [],
   "source": [
    "train_input_fn = lambda: input_fn(X_train, y_train, 2000, 32)\n",
    "test_input_fn1 = lambda: input_fn(X_test, y_test, 2000, 32, is_train=False)\n",
    "test_input_fn2 = lambda: input_fn(X_extrapolated, y_extrapolated, 2000, 32, is_train=False)"
   ]
  },
  {
   "cell_type": "code",
   "execution_count": 8,
   "metadata": {},
   "outputs": [
    {
     "data": {
      "text/plain": [
       "2500"
      ]
     },
     "execution_count": 8,
     "metadata": {},
     "output_type": "execute_result"
    }
   ],
   "source": [
    "EPOCHS = 10\n",
    "BATCH_SIZE = 32\n",
    "TRAIN_STEPS = EPOCHS * X_train.shape[0] // BATCH_SIZE\n",
    "\n",
    "TRAIN_STEPS"
   ]
  },
  {
   "cell_type": "code",
   "execution_count": 9,
   "metadata": {},
   "outputs": [],
   "source": [
    "from models.arithmetic_model import arithmetic_nac_fn\n",
    "from models.arithmetic_model import arithmetic_nalu_fn"
   ]
  },
  {
   "cell_type": "code",
   "execution_count": 10,
   "metadata": {},
   "outputs": [
    {
     "name": "stdout",
     "output_type": "stream",
     "text": [
      "INFO:tensorflow:Using default config.\n",
      "INFO:tensorflow:Using config: {'_log_step_count_steps': 100, '_tf_random_seed': None, '_keep_checkpoint_max': 5, '_num_ps_replicas': 0, '_task_id': 0, '_evaluation_master': '', '_is_chief': True, '_num_worker_replicas': 1, '_task_type': 'worker', '_save_checkpoints_secs': 600, '_cluster_spec': <tensorflow.python.training.server_lib.ClusterSpec object at 0x0000029149B1AF60>, '_save_summary_steps': 100, '_save_checkpoints_steps': None, '_train_distribute': None, '_model_dir': './ckpts/arithmetic_add/nac', '_master': '', '_session_config': None, '_service': None, '_keep_checkpoint_every_n_hours': 10000, '_global_id_in_cluster': 0}\n"
     ]
    }
   ],
   "source": [
    "estimator = tf.estimator.Estimator(model_fn=arithmetic_nac_fn,\n",
    "                                   params={}, model_dir='./ckpts/arithmetic_add/nac')"
   ]
  },
  {
   "cell_type": "code",
   "execution_count": 11,
   "metadata": {},
   "outputs": [
    {
     "name": "stdout",
     "output_type": "stream",
     "text": [
      "INFO:tensorflow:Calling model_fn.\n",
      "INFO:tensorflow:Done calling model_fn.\n",
      "INFO:tensorflow:Create CheckpointSaverHook.\n",
      "INFO:tensorflow:Graph was finalized.\n",
      "INFO:tensorflow:Running local_init_op.\n",
      "INFO:tensorflow:Done running local_init_op.\n",
      "INFO:tensorflow:Saving checkpoints for 1 into ./ckpts/arithmetic_add/nac\\model.ckpt.\n",
      "INFO:tensorflow:step = 0, loss = 1494.7577\n",
      "INFO:tensorflow:global_step/sec: 180.545\n",
      "INFO:tensorflow:step = 100, loss = 1780.4465 (0.554 sec)\n",
      "INFO:tensorflow:global_step/sec: 332.39\n",
      "INFO:tensorflow:step = 200, loss = 1208.0111 (0.301 sec)\n",
      "INFO:tensorflow:global_step/sec: 301.331\n",
      "INFO:tensorflow:step = 300, loss = 1620.1523 (0.332 sec)\n",
      "INFO:tensorflow:global_step/sec: 178.556\n",
      "INFO:tensorflow:step = 400, loss = 667.18835 (0.560 sec)\n",
      "INFO:tensorflow:global_step/sec: 315.925\n",
      "INFO:tensorflow:step = 500, loss = 626.86365 (0.317 sec)\n",
      "INFO:tensorflow:global_step/sec: 316.385\n",
      "INFO:tensorflow:step = 600, loss = 371.2116 (0.332 sec)\n",
      "INFO:tensorflow:global_step/sec: 333.238\n",
      "INFO:tensorflow:step = 700, loss = 318.66376 (0.300 sec)\n",
      "INFO:tensorflow:global_step/sec: 287.93\n",
      "INFO:tensorflow:step = 800, loss = 165.34131 (0.332 sec)\n",
      "INFO:tensorflow:global_step/sec: 332.828\n",
      "INFO:tensorflow:step = 900, loss = 64.81708 (0.300 sec)\n",
      "INFO:tensorflow:global_step/sec: 309.658\n",
      "INFO:tensorflow:step = 1000, loss = 13.002182 (0.323 sec)\n",
      "INFO:tensorflow:global_step/sec: 316.4\n",
      "INFO:tensorflow:step = 1100, loss = 0.31374425 (0.316 sec)\n",
      "INFO:tensorflow:global_step/sec: 316.415\n",
      "INFO:tensorflow:step = 1200, loss = 0.023289906 (0.316 sec)\n",
      "INFO:tensorflow:global_step/sec: 351.102\n",
      "INFO:tensorflow:step = 1300, loss = 0.025359552 (0.285 sec)\n",
      "INFO:tensorflow:global_step/sec: 316.391\n",
      "INFO:tensorflow:step = 1400, loss = 0.093704 (0.316 sec)\n",
      "INFO:tensorflow:global_step/sec: 316.694\n",
      "INFO:tensorflow:step = 1500, loss = 0.06242891 (0.316 sec)\n",
      "INFO:tensorflow:global_step/sec: 301.523\n",
      "INFO:tensorflow:step = 1600, loss = 0.01966107 (0.332 sec)\n",
      "INFO:tensorflow:global_step/sec: 351.576\n",
      "INFO:tensorflow:step = 1700, loss = 0.01636372 (0.284 sec)\n",
      "INFO:tensorflow:global_step/sec: 299.007\n",
      "INFO:tensorflow:step = 1800, loss = 0.08061007 (0.338 sec)\n",
      "INFO:tensorflow:global_step/sec: 221.204\n",
      "INFO:tensorflow:step = 1900, loss = 0.04823859 (0.448 sec)\n",
      "INFO:tensorflow:global_step/sec: 181.443\n",
      "INFO:tensorflow:step = 2000, loss = 0.040827967 (0.557 sec)\n",
      "INFO:tensorflow:global_step/sec: 171.018\n",
      "INFO:tensorflow:step = 2100, loss = 0.067599006 (0.595 sec)\n",
      "INFO:tensorflow:global_step/sec: 208.518\n",
      "INFO:tensorflow:step = 2200, loss = 0.03397409 (0.464 sec)\n",
      "INFO:tensorflow:global_step/sec: 220.19\n",
      "INFO:tensorflow:step = 2300, loss = 0.03674882 (0.454 sec)\n",
      "INFO:tensorflow:global_step/sec: 332.855\n",
      "INFO:tensorflow:step = 2400, loss = 0.019126292 (0.300 sec)\n",
      "INFO:tensorflow:Saving checkpoints for 2500 into ./ckpts/arithmetic_add/nac\\model.ckpt.\n",
      "INFO:tensorflow:Loss for final step: 0.036211107.\n"
     ]
    },
    {
     "data": {
      "text/plain": [
       "<tensorflow.python.estimator.estimator.Estimator at 0x29149b1a780>"
      ]
     },
     "execution_count": 11,
     "metadata": {},
     "output_type": "execute_result"
    }
   ],
   "source": [
    "estimator.train(input_fn=train_input_fn, steps=TRAIN_STEPS)"
   ]
  },
  {
   "cell_type": "code",
   "execution_count": 12,
   "metadata": {},
   "outputs": [
    {
     "name": "stdout",
     "output_type": "stream",
     "text": [
      "INFO:tensorflow:Calling model_fn.\n",
      "INFO:tensorflow:Done calling model_fn.\n",
      "INFO:tensorflow:Starting evaluation at 2018-08-19-14:33:49\n",
      "INFO:tensorflow:Graph was finalized.\n",
      "INFO:tensorflow:Restoring parameters from ./ckpts/arithmetic_add/nac\\model.ckpt-2500\n",
      "INFO:tensorflow:Running local_init_op.\n",
      "INFO:tensorflow:Done running local_init_op.\n",
      "INFO:tensorflow:Finished evaluation at 2018-08-19-14:33:51\n",
      "INFO:tensorflow:Saving dict for global step 2500: global_step = 2500, loss = 0.034050614\n"
     ]
    },
    {
     "data": {
      "text/plain": [
       "{'global_step': 2500, 'loss': 0.034050614}"
      ]
     },
     "execution_count": 12,
     "metadata": {},
     "output_type": "execute_result"
    }
   ],
   "source": [
    "estimator.evaluate(input_fn=test_input_fn1)"
   ]
  },
  {
   "cell_type": "code",
   "execution_count": 13,
   "metadata": {},
   "outputs": [
    {
     "name": "stdout",
     "output_type": "stream",
     "text": [
      "INFO:tensorflow:Calling model_fn.\n",
      "INFO:tensorflow:Done calling model_fn.\n",
      "INFO:tensorflow:Starting evaluation at 2018-08-19-14:33:54\n",
      "INFO:tensorflow:Graph was finalized.\n",
      "INFO:tensorflow:Restoring parameters from ./ckpts/arithmetic_add/nac\\model.ckpt-2500\n",
      "INFO:tensorflow:Running local_init_op.\n",
      "INFO:tensorflow:Done running local_init_op.\n",
      "INFO:tensorflow:Finished evaluation at 2018-08-19-14:33:56\n",
      "INFO:tensorflow:Saving dict for global step 2500: global_step = 2500, loss = 0.13673519\n"
     ]
    },
    {
     "data": {
      "text/plain": [
       "{'global_step': 2500, 'loss': 0.13673519}"
      ]
     },
     "execution_count": 13,
     "metadata": {},
     "output_type": "execute_result"
    }
   ],
   "source": [
    "estimator.evaluate(input_fn=test_input_fn2)"
   ]
  },
  {
   "cell_type": "code",
   "execution_count": 10,
   "metadata": {},
   "outputs": [
    {
     "name": "stdout",
     "output_type": "stream",
     "text": [
      "INFO:tensorflow:Using default config.\n",
      "INFO:tensorflow:Using config: {'_save_checkpoints_secs': 600, '_tf_random_seed': None, '_is_chief': True, '_save_summary_steps': 100, '_task_type': 'worker', '_task_id': 0, '_save_checkpoints_steps': None, '_cluster_spec': <tensorflow.python.training.server_lib.ClusterSpec object at 0x000001BCA11D9FD0>, '_keep_checkpoint_every_n_hours': 10000, '_num_ps_replicas': 0, '_session_config': None, '_keep_checkpoint_max': 5, '_model_dir': './ckpts/arithmetic_add/nalu', '_train_distribute': None, '_service': None, '_log_step_count_steps': 100, '_num_worker_replicas': 1, '_master': '', '_evaluation_master': '', '_global_id_in_cluster': 0}\n"
     ]
    }
   ],
   "source": [
    "tf.reset_default_graph()\n",
    "estimator = tf.estimator.Estimator(model_fn=arithmetic_nalu_fn,\n",
    "                                   params={}, model_dir='./ckpts/arithmetic_add/nalu')"
   ]
  },
  {
   "cell_type": "code",
   "execution_count": 12,
   "metadata": {},
   "outputs": [
    {
     "name": "stdout",
     "output_type": "stream",
     "text": [
      "INFO:tensorflow:Calling model_fn.\n",
      "INFO:tensorflow:Done calling model_fn.\n",
      "INFO:tensorflow:Create CheckpointSaverHook.\n",
      "INFO:tensorflow:Graph was finalized.\n",
      "INFO:tensorflow:Restoring parameters from ./ckpts/arithmetic_add/nalu\\model.ckpt-2500\n",
      "INFO:tensorflow:Running local_init_op.\n",
      "INFO:tensorflow:Done running local_init_op.\n",
      "INFO:tensorflow:Saving checkpoints for 2501 into ./ckpts/arithmetic_add/nalu\\model.ckpt.\n",
      "INFO:tensorflow:loss = 2.8707652, step = 2500\n",
      "INFO:tensorflow:global_step/sec: 106.828\n",
      "INFO:tensorflow:loss = 1.3754387, step = 2600 (0.939 sec)\n",
      "INFO:tensorflow:global_step/sec: 207.31\n",
      "INFO:tensorflow:loss = 2.1910763, step = 2700 (0.498 sec)\n",
      "INFO:tensorflow:global_step/sec: 152.666\n",
      "INFO:tensorflow:loss = 5.6631956, step = 2800 (0.653 sec)\n",
      "INFO:tensorflow:global_step/sec: 136.392\n",
      "INFO:tensorflow:loss = 7.8654966, step = 2900 (0.718 sec)\n",
      "INFO:tensorflow:global_step/sec: 145.739\n",
      "INFO:tensorflow:loss = 0.5129818, step = 3000 (0.686 sec)\n",
      "INFO:tensorflow:global_step/sec: 152.833\n",
      "INFO:tensorflow:loss = 5.0268784, step = 3100 (0.654 sec)\n",
      "INFO:tensorflow:global_step/sec: 147.148\n",
      "INFO:tensorflow:loss = 2.9629536, step = 3200 (0.680 sec)\n",
      "INFO:tensorflow:global_step/sec: 119.177\n",
      "INFO:tensorflow:loss = 0.4557395, step = 3300 (0.839 sec)\n",
      "INFO:tensorflow:global_step/sec: 199.757\n",
      "INFO:tensorflow:loss = 1.2924817, step = 3400 (0.501 sec)\n",
      "INFO:tensorflow:global_step/sec: 206.405\n",
      "INFO:tensorflow:loss = 4.0345383, step = 3500 (0.500 sec)\n",
      "INFO:tensorflow:global_step/sec: 199.749\n",
      "INFO:tensorflow:loss = 2.7581954, step = 3600 (0.485 sec)\n",
      "INFO:tensorflow:global_step/sec: 208.799\n",
      "INFO:tensorflow:loss = 3.407179, step = 3700 (0.495 sec)\n",
      "INFO:tensorflow:global_step/sec: 199.644\n",
      "INFO:tensorflow:loss = 7.643146, step = 3800 (0.485 sec)\n",
      "INFO:tensorflow:global_step/sec: 206.519\n",
      "INFO:tensorflow:loss = 0.32941538, step = 3900 (0.500 sec)\n",
      "INFO:tensorflow:global_step/sec: 199.654\n",
      "INFO:tensorflow:loss = 0.6079533, step = 4000 (0.501 sec)\n",
      "INFO:tensorflow:global_step/sec: 199.486\n",
      "INFO:tensorflow:loss = 1.0538373, step = 4100 (0.486 sec)\n",
      "INFO:tensorflow:global_step/sec: 199.388\n",
      "INFO:tensorflow:loss = 3.3641481, step = 4200 (0.502 sec)\n",
      "INFO:tensorflow:global_step/sec: 206.166\n",
      "INFO:tensorflow:loss = 0.7864416, step = 4300 (0.501 sec)\n",
      "INFO:tensorflow:global_step/sec: 187.808\n",
      "INFO:tensorflow:loss = 3.852942, step = 4400 (0.535 sec)\n",
      "INFO:tensorflow:global_step/sec: 142.634\n",
      "INFO:tensorflow:loss = 3.4345343, step = 4500 (0.683 sec)\n",
      "INFO:tensorflow:global_step/sec: 121.952\n",
      "INFO:tensorflow:loss = 0.48437437, step = 4600 (0.823 sec)\n",
      "INFO:tensorflow:global_step/sec: 149.776\n",
      "INFO:tensorflow:loss = 1.2114252, step = 4700 (0.680 sec)\n",
      "INFO:tensorflow:global_step/sec: 142.464\n",
      "INFO:tensorflow:loss = 2.6096663, step = 4800 (0.702 sec)\n",
      "INFO:tensorflow:global_step/sec: 162.201\n",
      "INFO:tensorflow:loss = 3.574189, step = 4900 (0.601 sec)\n",
      "INFO:tensorflow:Saving checkpoints for 5000 into ./ckpts/arithmetic_add/nalu\\model.ckpt.\n",
      "INFO:tensorflow:Loss for final step: 0.6898134.\n"
     ]
    },
    {
     "data": {
      "text/plain": [
       "<tensorflow.python.estimator.estimator.Estimator at 0x1bca11d9d68>"
      ]
     },
     "execution_count": 12,
     "metadata": {},
     "output_type": "execute_result"
    }
   ],
   "source": [
    "estimator.train(input_fn=train_input_fn, steps=TRAIN_STEPS)"
   ]
  },
  {
   "cell_type": "code",
   "execution_count": 13,
   "metadata": {},
   "outputs": [
    {
     "name": "stdout",
     "output_type": "stream",
     "text": [
      "INFO:tensorflow:Calling model_fn.\n",
      "INFO:tensorflow:Done calling model_fn.\n",
      "INFO:tensorflow:Starting evaluation at 2018-08-19-16:57:07\n",
      "INFO:tensorflow:Graph was finalized.\n",
      "INFO:tensorflow:Restoring parameters from ./ckpts/arithmetic_add/nalu\\model.ckpt-5000\n",
      "INFO:tensorflow:Running local_init_op.\n",
      "INFO:tensorflow:Done running local_init_op.\n",
      "INFO:tensorflow:Finished evaluation at 2018-08-19-16:57:09\n",
      "INFO:tensorflow:Saving dict for global step 5000: global_step = 5000, loss = 0.84773093\n"
     ]
    },
    {
     "data": {
      "text/plain": [
       "{'global_step': 5000, 'loss': 0.84773093}"
      ]
     },
     "execution_count": 13,
     "metadata": {},
     "output_type": "execute_result"
    }
   ],
   "source": [
    "estimator.evaluate(input_fn=test_input_fn1)"
   ]
  },
  {
   "cell_type": "code",
   "execution_count": 14,
   "metadata": {},
   "outputs": [
    {
     "name": "stdout",
     "output_type": "stream",
     "text": [
      "INFO:tensorflow:Calling model_fn.\n",
      "INFO:tensorflow:Done calling model_fn.\n",
      "INFO:tensorflow:Starting evaluation at 2018-08-19-16:57:14\n",
      "INFO:tensorflow:Graph was finalized.\n",
      "INFO:tensorflow:Restoring parameters from ./ckpts/arithmetic_add/nalu\\model.ckpt-5000\n",
      "INFO:tensorflow:Running local_init_op.\n",
      "INFO:tensorflow:Done running local_init_op.\n",
      "INFO:tensorflow:Finished evaluation at 2018-08-19-16:57:17\n",
      "INFO:tensorflow:Saving dict for global step 5000: global_step = 5000, loss = 3.2616096\n"
     ]
    },
    {
     "data": {
      "text/plain": [
       "{'global_step': 5000, 'loss': 3.2616096}"
      ]
     },
     "execution_count": 14,
     "metadata": {},
     "output_type": "execute_result"
    }
   ],
   "source": [
    "estimator.evaluate(input_fn=test_input_fn2)"
   ]
  },
  {
   "cell_type": "code",
   "execution_count": 1,
   "metadata": {},
   "outputs": [],
   "source": [
    "import numpy as np\n",
    "import tensorflow as tf\n",
    "\n",
    "from utils import x_generator\n",
    "from utils.nonlins import *\n",
    "from utils.pipelines import input_fn"
   ]
  },
  {
   "cell_type": "code",
   "execution_count": 2,
   "metadata": {},
   "outputs": [],
   "source": [
    "X, y = relu()\n",
    "\n",
    "X_extrapolated = x_generator(range_l=-20, range_u=20, dims=1)\n",
    "\n",
    "y_extrapolated = np.maximum(X_extrapolated, 0)"
   ]
  },
  {
   "cell_type": "code",
   "execution_count": 3,
   "metadata": {},
   "outputs": [
    {
     "data": {
      "text/plain": [
       "((10000, 1), (10000, 1), (10000, 1), (10000, 1))"
      ]
     },
     "execution_count": 3,
     "metadata": {},
     "output_type": "execute_result"
    }
   ],
   "source": [
    "X.shape, y.shape, X_extrapolated.shape, y_extrapolated.shape"
   ]
  },
  {
   "cell_type": "code",
   "execution_count": 4,
   "metadata": {},
   "outputs": [],
   "source": [
    "def train_test_split(X, y, val_split=0.2):\n",
    "    indices = np.random.permutation(X.shape[0])\n",
    "    split = int(0.2 * X.shape[0])\n",
    "    test_indices = indices[:split]\n",
    "    train_indices = indices[split:]\n",
    "    return X[train_indices], y[train_indices], X[test_indices], y[test_indices]"
   ]
  },
  {
   "cell_type": "code",
   "execution_count": 5,
   "metadata": {},
   "outputs": [
    {
     "data": {
      "text/plain": [
       "((8000, 1), (2000, 1), (8000, 1), (2000, 1))"
      ]
     },
     "execution_count": 5,
     "metadata": {},
     "output_type": "execute_result"
    }
   ],
   "source": [
    "X_train, y_train, X_test, y_test = train_test_split(X, y)\n",
    "\n",
    "X_train.shape, X_test.shape, y_train.shape, y_test.shape"
   ]
  },
  {
   "cell_type": "code",
   "execution_count": 6,
   "metadata": {},
   "outputs": [],
   "source": [
    "train_input_fn = lambda: input_fn(X_train, y_train, 2000, 32)\n",
    "test_input_fn1 = lambda: input_fn(X_test, y_test, 2000, 32, is_train=False)\n",
    "test_input_fn2 = lambda: input_fn(X_extrapolated, y_extrapolated, 2000, 32, is_train=False)"
   ]
  },
  {
   "cell_type": "code",
   "execution_count": 7,
   "metadata": {},
   "outputs": [
    {
     "data": {
      "text/plain": [
       "2500"
      ]
     },
     "execution_count": 7,
     "metadata": {},
     "output_type": "execute_result"
    }
   ],
   "source": [
    "EPOCHS = 10\n",
    "BATCH_SIZE = 32\n",
    "TRAIN_STEPS = EPOCHS * X_train.shape[0] // BATCH_SIZE\n",
    "\n",
    "TRAIN_STEPS"
   ]
  },
  {
   "cell_type": "code",
   "execution_count": 8,
   "metadata": {},
   "outputs": [],
   "source": [
    "from models.nonlin_model import nonlin_nac_fn\n",
    "from models.nonlin_model import nonlin_nalu_fn"
   ]
  },
  {
   "cell_type": "code",
   "execution_count": 9,
   "metadata": {},
   "outputs": [
    {
     "name": "stdout",
     "output_type": "stream",
     "text": [
      "INFO:tensorflow:Using default config.\n",
      "INFO:tensorflow:Using config: {'_train_distribute': None, '_keep_checkpoint_max': 5, '_save_summary_steps': 100, '_task_type': 'worker', '_cluster_spec': <tensorflow.python.training.server_lib.ClusterSpec object at 0x000001E9D7031B38>, '_num_ps_replicas': 0, '_tf_random_seed': None, '_keep_checkpoint_every_n_hours': 10000, '_save_checkpoints_steps': None, '_session_config': None, '_service': None, '_is_chief': True, '_save_checkpoints_secs': 600, '_task_id': 0, '_model_dir': './ckpts/nonlin_relu/nac', '_log_step_count_steps': 100, '_num_worker_replicas': 1, '_master': '', '_global_id_in_cluster': 0, '_evaluation_master': ''}\n"
     ]
    }
   ],
   "source": [
    "estimator = tf.estimator.Estimator(model_fn=nonlin_nac_fn,\n",
    "                                   params={}, model_dir='./ckpts/nonlin_relu/nac')"
   ]
  },
  {
   "cell_type": "code",
   "execution_count": 13,
   "metadata": {},
   "outputs": [
    {
     "name": "stdout",
     "output_type": "stream",
     "text": [
      "INFO:tensorflow:Calling model_fn.\n",
      "INFO:tensorflow:Done calling model_fn.\n",
      "INFO:tensorflow:Create CheckpointSaverHook.\n",
      "INFO:tensorflow:Graph was finalized.\n",
      "INFO:tensorflow:Restoring parameters from ./ckpts/nonlin_relu/nac\\model.ckpt-7500\n",
      "INFO:tensorflow:Running local_init_op.\n",
      "INFO:tensorflow:Done running local_init_op.\n",
      "INFO:tensorflow:Saving checkpoints for 7501 into ./ckpts/nonlin_relu/nac\\model.ckpt.\n",
      "INFO:tensorflow:loss = 9.727577, step = 7500\n",
      "INFO:tensorflow:global_step/sec: 262.816\n",
      "INFO:tensorflow:loss = 9.245731, step = 7600 (0.379 sec)\n",
      "INFO:tensorflow:global_step/sec: 282.608\n",
      "INFO:tensorflow:loss = 8.997835, step = 7700 (0.354 sec)\n",
      "INFO:tensorflow:global_step/sec: 249.38\n",
      "INFO:tensorflow:loss = 8.293657, step = 7800 (0.401 sec)\n",
      "INFO:tensorflow:global_step/sec: 301.23\n",
      "INFO:tensorflow:loss = 8.180317, step = 7900 (0.348 sec)\n",
      "INFO:tensorflow:global_step/sec: 231.28\n",
      "INFO:tensorflow:loss = 10.652992, step = 8000 (0.433 sec)\n",
      "INFO:tensorflow:global_step/sec: 202.116\n",
      "INFO:tensorflow:loss = 8.6399, step = 8100 (0.482 sec)\n",
      "INFO:tensorflow:global_step/sec: 218.719\n",
      "INFO:tensorflow:loss = 6.0699778, step = 8200 (0.473 sec)\n",
      "INFO:tensorflow:global_step/sec: 205.908\n",
      "INFO:tensorflow:loss = 7.444605, step = 8300 (0.482 sec)\n",
      "INFO:tensorflow:global_step/sec: 196.766\n",
      "INFO:tensorflow:loss = 8.198746, step = 8400 (0.498 sec)\n",
      "INFO:tensorflow:global_step/sec: 227.585\n",
      "INFO:tensorflow:loss = 8.695263, step = 8500 (0.454 sec)\n",
      "INFO:tensorflow:global_step/sec: 212.696\n",
      "INFO:tensorflow:loss = 7.391325, step = 8600 (0.451 sec)\n",
      "INFO:tensorflow:global_step/sec: 222.435\n",
      "INFO:tensorflow:loss = 7.9087205, step = 8700 (0.454 sec)\n",
      "INFO:tensorflow:global_step/sec: 205.438\n",
      "INFO:tensorflow:loss = 9.069584, step = 8800 (0.482 sec)\n",
      "INFO:tensorflow:global_step/sec: 223.673\n",
      "INFO:tensorflow:loss = 9.799053, step = 8900 (0.447 sec)\n",
      "INFO:tensorflow:global_step/sec: 164.78\n",
      "INFO:tensorflow:loss = 6.615938, step = 9000 (0.618 sec)\n",
      "INFO:tensorflow:global_step/sec: 171.152\n",
      "INFO:tensorflow:loss = 11.110481, step = 9100 (0.573 sec)\n",
      "INFO:tensorflow:global_step/sec: 219.994\n",
      "INFO:tensorflow:loss = 7.3840485, step = 9200 (0.470 sec)\n",
      "INFO:tensorflow:global_step/sec: 316.678\n",
      "INFO:tensorflow:loss = 10.265094, step = 9300 (0.300 sec)\n",
      "INFO:tensorflow:global_step/sec: 332.45\n",
      "INFO:tensorflow:loss = 11.041243, step = 9400 (0.301 sec)\n",
      "INFO:tensorflow:global_step/sec: 316.813\n",
      "INFO:tensorflow:loss = 7.092654, step = 9500 (0.316 sec)\n",
      "INFO:tensorflow:global_step/sec: 332.914\n",
      "INFO:tensorflow:loss = 6.907443, step = 9600 (0.300 sec)\n",
      "INFO:tensorflow:global_step/sec: 333.454\n",
      "INFO:tensorflow:loss = 6.608033, step = 9700 (0.316 sec)\n",
      "INFO:tensorflow:global_step/sec: 316.259\n",
      "INFO:tensorflow:loss = 9.813757, step = 9800 (0.316 sec)\n",
      "INFO:tensorflow:global_step/sec: 332.41\n",
      "INFO:tensorflow:loss = 9.460745, step = 9900 (0.285 sec)\n",
      "INFO:tensorflow:Saving checkpoints for 10000 into ./ckpts/nonlin_relu/nac\\model.ckpt.\n",
      "INFO:tensorflow:Loss for final step: 6.8435736.\n"
     ]
    },
    {
     "data": {
      "text/plain": [
       "<tensorflow.python.estimator.estimator.Estimator at 0x1e9d70313c8>"
      ]
     },
     "execution_count": 13,
     "metadata": {},
     "output_type": "execute_result"
    }
   ],
   "source": [
    "estimator.train(input_fn=train_input_fn, steps=TRAIN_STEPS)"
   ]
  },
  {
   "cell_type": "code",
   "execution_count": 14,
   "metadata": {},
   "outputs": [
    {
     "name": "stdout",
     "output_type": "stream",
     "text": [
      "INFO:tensorflow:Calling model_fn.\n",
      "INFO:tensorflow:Done calling model_fn.\n",
      "INFO:tensorflow:Starting evaluation at 2018-08-19-17:03:58\n",
      "INFO:tensorflow:Graph was finalized.\n",
      "INFO:tensorflow:Restoring parameters from ./ckpts/nonlin_relu/nac\\model.ckpt-10000\n",
      "INFO:tensorflow:Running local_init_op.\n",
      "INFO:tensorflow:Done running local_init_op.\n",
      "INFO:tensorflow:Finished evaluation at 2018-08-19-17:03:59\n",
      "INFO:tensorflow:Saving dict for global step 10000: global_step = 10000, loss = 8.477541\n"
     ]
    },
    {
     "data": {
      "text/plain": [
       "{'global_step': 10000, 'loss': 8.477541}"
      ]
     },
     "execution_count": 14,
     "metadata": {},
     "output_type": "execute_result"
    }
   ],
   "source": [
    "estimator.evaluate(input_fn=test_input_fn1)"
   ]
  },
  {
   "cell_type": "code",
   "execution_count": 15,
   "metadata": {},
   "outputs": [
    {
     "name": "stdout",
     "output_type": "stream",
     "text": [
      "INFO:tensorflow:Calling model_fn.\n",
      "INFO:tensorflow:Done calling model_fn.\n",
      "INFO:tensorflow:Starting evaluation at 2018-08-19-17:04:04\n",
      "INFO:tensorflow:Graph was finalized.\n",
      "INFO:tensorflow:Restoring parameters from ./ckpts/nonlin_relu/nac\\model.ckpt-10000\n",
      "INFO:tensorflow:Running local_init_op.\n",
      "INFO:tensorflow:Done running local_init_op.\n",
      "INFO:tensorflow:Finished evaluation at 2018-08-19-17:04:05\n",
      "INFO:tensorflow:Saving dict for global step 10000: global_step = 10000, loss = 33.531742\n"
     ]
    },
    {
     "data": {
      "text/plain": [
       "{'global_step': 10000, 'loss': 33.531742}"
      ]
     },
     "execution_count": 15,
     "metadata": {},
     "output_type": "execute_result"
    }
   ],
   "source": [
    "estimator.evaluate(input_fn=test_input_fn2)"
   ]
  },
  {
   "cell_type": "code",
   "execution_count": 16,
   "metadata": {},
   "outputs": [
    {
     "name": "stdout",
     "output_type": "stream",
     "text": [
      "INFO:tensorflow:Using default config.\n",
      "INFO:tensorflow:Using config: {'_train_distribute': None, '_keep_checkpoint_max': 5, '_save_summary_steps': 100, '_task_type': 'worker', '_cluster_spec': <tensorflow.python.training.server_lib.ClusterSpec object at 0x000001E9D701F828>, '_num_ps_replicas': 0, '_tf_random_seed': None, '_keep_checkpoint_every_n_hours': 10000, '_save_checkpoints_steps': None, '_session_config': None, '_service': None, '_save_checkpoints_secs': 600, '_evaluation_master': '', '_task_id': 0, '_model_dir': './ckpts/nonlin_relu/nalu', '_log_step_count_steps': 100, '_num_worker_replicas': 1, '_master': '', '_global_id_in_cluster': 0, '_is_chief': True}\n"
     ]
    }
   ],
   "source": [
    "tf.reset_default_graph()\n",
    "estimator = tf.estimator.Estimator(model_fn=nonlin_nalu_fn,\n",
    "                                   params={}, model_dir='./ckpts/nonlin_relu/nalu')"
   ]
  },
  {
   "cell_type": "code",
   "execution_count": 17,
   "metadata": {},
   "outputs": [
    {
     "name": "stdout",
     "output_type": "stream",
     "text": [
      "INFO:tensorflow:Calling model_fn.\n",
      "INFO:tensorflow:Done calling model_fn.\n",
      "INFO:tensorflow:Create CheckpointSaverHook.\n",
      "INFO:tensorflow:Graph was finalized.\n",
      "INFO:tensorflow:Running local_init_op.\n",
      "INFO:tensorflow:Done running local_init_op.\n",
      "INFO:tensorflow:Saving checkpoints for 1 into ./ckpts/nonlin_relu/nalu\\model.ckpt.\n",
      "INFO:tensorflow:loss = 24.72435, step = 0\n",
      "INFO:tensorflow:global_step/sec: 136.526\n",
      "INFO:tensorflow:loss = 17.695835, step = 100 (0.748 sec)\n",
      "INFO:tensorflow:global_step/sec: 182.394\n",
      "INFO:tensorflow:loss = 8.527319, step = 200 (0.552 sec)\n",
      "INFO:tensorflow:global_step/sec: 166.623\n",
      "INFO:tensorflow:loss = 2.3056095, step = 300 (0.581 sec)\n",
      "INFO:tensorflow:global_step/sec: 145.883\n",
      "INFO:tensorflow:loss = 1.8077557, step = 400 (0.685 sec)\n",
      "INFO:tensorflow:global_step/sec: 152.672\n",
      "INFO:tensorflow:loss = 1.8797323, step = 500 (0.655 sec)\n",
      "INFO:tensorflow:global_step/sec: 125.32\n",
      "INFO:tensorflow:loss = 0.67154175, step = 600 (0.798 sec)\n",
      "INFO:tensorflow:global_step/sec: 142.432\n",
      "INFO:tensorflow:loss = 0.78586286, step = 700 (0.702 sec)\n",
      "INFO:tensorflow:global_step/sec: 142.56\n",
      "INFO:tensorflow:loss = 0.33667827, step = 800 (0.701 sec)\n",
      "INFO:tensorflow:global_step/sec: 142.564\n",
      "INFO:tensorflow:loss = 0.37645063, step = 900 (0.717 sec)\n",
      "INFO:tensorflow:global_step/sec: 142.498\n",
      "INFO:tensorflow:loss = 0.769097, step = 1000 (0.686 sec)\n",
      "INFO:tensorflow:global_step/sec: 162.11\n",
      "INFO:tensorflow:loss = 0.21740118, step = 1100 (0.617 sec)\n",
      "INFO:tensorflow:global_step/sec: 199.452\n",
      "INFO:tensorflow:loss = 0.1602652, step = 1200 (0.501 sec)\n",
      "INFO:tensorflow:global_step/sec: 206.386\n",
      "INFO:tensorflow:loss = 0.20158628, step = 1300 (0.485 sec)\n",
      "INFO:tensorflow:global_step/sec: 199.561\n",
      "INFO:tensorflow:loss = 0.2102628, step = 1400 (0.501 sec)\n",
      "INFO:tensorflow:global_step/sec: 199.834\n",
      "INFO:tensorflow:loss = 0.080936916, step = 1500 (0.500 sec)\n",
      "INFO:tensorflow:global_step/sec: 157.992\n",
      "INFO:tensorflow:loss = 0.087101854, step = 1600 (0.633 sec)\n",
      "INFO:tensorflow:global_step/sec: 149.408\n",
      "INFO:tensorflow:loss = 0.032491934, step = 1700 (0.669 sec)\n",
      "INFO:tensorflow:global_step/sec: 139.881\n",
      "INFO:tensorflow:loss = 0.031376675, step = 1800 (0.719 sec)\n",
      "INFO:tensorflow:global_step/sec: 128.445\n",
      "INFO:tensorflow:loss = 0.019734956, step = 1900 (0.790 sec)\n",
      "INFO:tensorflow:global_step/sec: 113.654\n",
      "INFO:tensorflow:loss = 0.04644356, step = 2000 (0.870 sec)\n",
      "INFO:tensorflow:global_step/sec: 135.186\n",
      "INFO:tensorflow:loss = 0.01975017, step = 2100 (0.734 sec)\n",
      "INFO:tensorflow:global_step/sec: 142.469\n",
      "INFO:tensorflow:loss = 0.012719452, step = 2200 (0.718 sec)\n",
      "INFO:tensorflow:global_step/sec: 199.577\n",
      "INFO:tensorflow:loss = 0.036907326, step = 2300 (0.485 sec)\n",
      "INFO:tensorflow:global_step/sec: 199.619\n",
      "INFO:tensorflow:loss = 0.067420155, step = 2400 (0.501 sec)\n",
      "INFO:tensorflow:Saving checkpoints for 2500 into ./ckpts/nonlin_relu/nalu\\model.ckpt.\n",
      "INFO:tensorflow:Loss for final step: 0.20920347.\n"
     ]
    },
    {
     "data": {
      "text/plain": [
       "<tensorflow.python.estimator.estimator.Estimator at 0x1e9d701f898>"
      ]
     },
     "execution_count": 17,
     "metadata": {},
     "output_type": "execute_result"
    }
   ],
   "source": [
    "estimator.train(input_fn=train_input_fn, steps=TRAIN_STEPS)"
   ]
  },
  {
   "cell_type": "code",
   "execution_count": 18,
   "metadata": {},
   "outputs": [
    {
     "name": "stdout",
     "output_type": "stream",
     "text": [
      "INFO:tensorflow:Calling model_fn.\n",
      "INFO:tensorflow:Done calling model_fn.\n",
      "INFO:tensorflow:Starting evaluation at 2018-08-19-17:05:29\n",
      "INFO:tensorflow:Graph was finalized.\n",
      "INFO:tensorflow:Restoring parameters from ./ckpts/nonlin_relu/nalu\\model.ckpt-2500\n",
      "INFO:tensorflow:Running local_init_op.\n",
      "INFO:tensorflow:Done running local_init_op.\n",
      "INFO:tensorflow:Finished evaluation at 2018-08-19-17:05:30\n",
      "INFO:tensorflow:Saving dict for global step 2500: global_step = 2500, loss = 0.028774979\n"
     ]
    },
    {
     "data": {
      "text/plain": [
       "{'global_step': 2500, 'loss': 0.028774979}"
      ]
     },
     "execution_count": 18,
     "metadata": {},
     "output_type": "execute_result"
    }
   ],
   "source": [
    "estimator.evaluate(input_fn=test_input_fn1)"
   ]
  },
  {
   "cell_type": "code",
   "execution_count": 19,
   "metadata": {},
   "outputs": [
    {
     "name": "stdout",
     "output_type": "stream",
     "text": [
      "INFO:tensorflow:Calling model_fn.\n",
      "INFO:tensorflow:Done calling model_fn.\n",
      "INFO:tensorflow:Starting evaluation at 2018-08-19-17:05:36\n",
      "INFO:tensorflow:Graph was finalized.\n",
      "INFO:tensorflow:Restoring parameters from ./ckpts/nonlin_relu/nalu\\model.ckpt-2500\n",
      "INFO:tensorflow:Running local_init_op.\n",
      "INFO:tensorflow:Done running local_init_op.\n",
      "INFO:tensorflow:Finished evaluation at 2018-08-19-17:05:37\n",
      "INFO:tensorflow:Saving dict for global step 2500: global_step = 2500, loss = 22.099894\n"
     ]
    },
    {
     "data": {
      "text/plain": [
       "{'global_step': 2500, 'loss': 22.099894}"
      ]
     },
     "execution_count": 19,
     "metadata": {},
     "output_type": "execute_result"
    }
   ],
   "source": [
    "estimator.evaluate(input_fn=test_input_fn2)"
   ]
  }
 ],
 "metadata": {
  "kernelspec": {
   "display_name": "Python 3",
   "language": "python",
   "name": "python3"
  },
  "language_info": {
   "codemirror_mode": {
    "name": "ipython",
    "version": 3
   },
   "file_extension": ".py",
   "mimetype": "text/x-python",
   "name": "python",
   "nbconvert_exporter": "python",
   "pygments_lexer": "ipython3",
   "version": "3.5.1"
  }
 },
 "nbformat": 4,
 "nbformat_minor": 2
}
